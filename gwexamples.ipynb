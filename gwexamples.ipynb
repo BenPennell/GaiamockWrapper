{
 "cells": [
  {
   "cell_type": "markdown",
   "metadata": {},
   "source": [
    "# This is a gaiamock wrapper, here's how to use it\n",
    "\n",
    "Ben Pennell\n",
    "\n",
    "--\n",
    "_____"
   ]
  },
  {
   "cell_type": "code",
   "execution_count": null,
   "metadata": {},
   "outputs": [],
   "source": [
    "import matplotlib.pyplot as plt\n",
    "import matplotlib\n",
    "import numpy as np\n",
    "import pickle\n",
    "%matplotlib inline\n",
    "matplotlib.rcParams['figure.figsize'] = (12, 10)\n",
    "\n",
    "import GaiamockWrapper as gw"
   ]
  },
  {
   "cell_type": "code",
   "execution_count": null,
   "metadata": {},
   "outputs": [],
   "source": [
    "catpath = \"data/m_dwarf_gaia_data.pkl\"\n",
    "infile = open(catpath, \"rb\")\n",
    "r = pickle.load(infile)\n",
    "infile.close()"
   ]
  },
  {
   "cell_type": "markdown",
   "metadata": {},
   "source": [
    "## marginalizing ruwe\n",
    "\n",
    "You can call `mariginalize_ruwe()` and pass in any number of keywords to then be passed into gaiamock. For every variable, there are default values so you don't need to set everything. The defaults can be seen in `calculate_ruwe()`. If you want to use values for (ra, dec, pmra, pmdec, parallax) from a catalogue, you can pass in a dataframe row to the variable `df`"
   ]
  },
  {
   "cell_type": "markdown",
   "metadata": {},
   "source": [
    "Let's take an example where we specify a binary and simply see how ruwe varies. I'll leave all the other parameters to defaults (circular, face-on orbit)"
   ]
  },
  {
   "cell_type": "code",
   "execution_count": null,
   "metadata": {},
   "outputs": [],
   "source": [
    "ruwes = gw.marginalize_ruwe(sample_count=1000, df=r[1019], m1=0.4, q=0.1, p=1e4)\n",
    "plt.hist(ruwes, bins=100, color=\"red\");\n",
    "plt.xlabel(\"RUWE\");\n",
    "plt.ylabel(\"#\");"
   ]
  },
  {
   "cell_type": "markdown",
   "metadata": {},
   "source": [
    "Now, what if we wanted to know how this $\\texttt{RUWE}$ distribution changes with different primary mass? You can call `marginalize_ruwe_grid1d` and check. What you need to provide in the first argument is `([paramter name], [list of values])`"
   ]
  },
  {
   "cell_type": "code",
   "execution_count": null,
   "metadata": {},
   "outputs": [],
   "source": [
    "m1s = np.linspace(0.2,0.8,10)\n",
    "ruwes_1d = gw.marginalize_ruwe_grid1d((\"m1\", m1s), sample_count=100, df=r[1019], m1=0.4, q=0.1, p=1e4)\n",
    "plt.errorbar(m1s, np.mean(ruwes_1d, axis=1), yerr=np.std(ruwes_1d, axis=1), color=\"k\")\n",
    "plt.xlabel(\"Primary mass\");\n",
    "plt.ylabel(\"Average RUWE\");\n",
    "plt.title(\"RUWE distribution dependence on primary mass, std shown as error bar\");"
   ]
  },
  {
   "cell_type": "markdown",
   "metadata": {},
   "source": [
    "Now, we could also check how the $\\texttt{RUWE}$ distribution changed with mass AND period by calling `marginalize_ruwe_grid2d`"
   ]
  },
  {
   "cell_type": "code",
   "execution_count": null,
   "metadata": {},
   "outputs": [],
   "source": [
    "m_range = (0.4,1.2)\n",
    "p_range = (2,7)\n",
    "\n",
    "m1s = np.linspace(*m_range, 15)\n",
    "ps = np.logspace(*p_range,15)\n",
    "ruwes_2d = gw.marginalize_ruwe_grid2d((\"m1\", m1s), (\"period\", ps), sample_count=3, df=r[1019], q=0.7)\n",
    "mean_ruwes_2d = np.mean(ruwes_2d, axis=2)\n",
    "\n",
    "fig, ax = plt.subplots(1,1)\n",
    "cb = ax.imshow(mean_ruwes_2d, extent=[p_range[0],p_range[1],m_range[1],m_range[0]], aspect=\"auto\")\n",
    "plt.colorbar(cb, label=\"RUWE\");\n",
    "ax.set_ylabel(\"Primary mass\");\n",
    "ax.set_xlabel(\"log10 Period\");\n",
    "\n",
    "for i in range(mean_ruwes_2d.shape[0]):\n",
    "    for j in range(mean_ruwes_2d.shape[1]):\n",
    "        x_pos = p_range[0] + (p_range[1] - p_range[0]) * (j + 0.5) / mean_ruwes_2d.shape[1]\n",
    "        y_pos = m_range[0] + (m_range[1] - m_range[0]) * (i + 0.5) / mean_ruwes_2d.shape[0]\n",
    "        \n",
    "        ax.text(x_pos, y_pos, f'{mean_ruwes_2d[i, j]:.2f}', ha='center', va='center', color='white')\n",
    "ax.invert_yaxis()"
   ]
  },
  {
   "cell_type": "markdown",
   "metadata": {},
   "source": [
    "## Features"
   ]
  },
  {
   "cell_type": "markdown",
   "metadata": {},
   "source": [
    "So, this was the basic usage. I'll now list the various other features I've included"
   ]
  },
  {
   "cell_type": "markdown",
   "metadata": {},
   "source": [
    "### marginalization"
   ]
  },
  {
   "cell_type": "markdown",
   "metadata": {},
   "source": [
    "If you want to marginalize over a particular parameter, you simply supply the function to be called. Currently, I haven't implemented a scheme to pass functions with arguments, but I could do this if there developed a need. So, we could marginalize over inclination with"
   ]
  },
  {
   "cell_type": "code",
   "execution_count": null,
   "metadata": {},
   "outputs": [],
   "source": [
    "def random_inc():\n",
    "    return np.random.rand()*0.5*np.pi\n",
    "\n",
    "ruwes = gw.marginalize_ruwe(sample_count=1000, df=r[1019], m1=0.4, q=0.1, p=1e4, inc=random_inc)\n",
    "plt.hist(ruwes, bins=100, color=\"red\");\n",
    "plt.xlabel(\"RUWE\");\n",
    "plt.ylabel(\"#\");\n",
    "plt.title(\"Now with marginalized RUWE\");"
   ]
  },
  {
   "cell_type": "markdown",
   "metadata": {},
   "source": [
    "I've created built-in functions for marginalizing over all the orbital angles, and you can tell the program to marginalize all of them by using the keyword argument `marginalize_angles`"
   ]
  },
  {
   "cell_type": "code",
   "execution_count": null,
   "metadata": {},
   "outputs": [],
   "source": [
    "ruwes = gw.marginalize_ruwe(sample_count=1000, df=r[1019], m1=0.4, q=0.1, p=1e4, marginalize_angles=True)\n",
    "plt.hist(ruwes, bins=100, color=\"red\");\n",
    "plt.xlabel(\"RUWE\");\n",
    "plt.ylabel(\"#\");\n",
    "plt.title(\"Now with marginalized RUWE\");"
   ]
  },
  {
   "cell_type": "markdown",
   "metadata": {},
   "source": [
    "You can also pass parameters into the functions you're using, if you want to do that, just ask me or look into the code. I'll create documentation for that later"
   ]
  },
  {
   "cell_type": "markdown",
   "metadata": {},
   "source": [
    "In addition to supplying a function for marginalizing, you can specify to randomly sample from a catalogue. And, if you sample two or more parameters from a catalogue, at each step it only chooses a random row to pull all the parameters from. This prevents unphysical combinations of parameters from showing up.\n",
    "\n",
    "To do this you need to pass in a `catalogue_path` and then specify the keyword arguments for your parameters as `\"catalogue\"`"
   ]
  },
  {
   "cell_type": "code",
   "execution_count": null,
   "metadata": {},
   "outputs": [],
   "source": [
    "ruwes = gw.marginalize_ruwe(sample_count=1000, df=r[1019], catalogue_path=catpath,\n",
    "                            m1=0.4, q=0.1, p=1e4, \n",
    "                            ra=\"catalogue\", dec=\"catalogue\")\n",
    "plt.hist(ruwes, bins=100, color=\"red\");\n",
    "plt.xlabel(\"RUWE\");\n",
    "plt.ylabel(\"#\");\n",
    "plt.title(\"Now with marginalized RUWE over ra,dec\");"
   ]
  },
  {
   "cell_type": "markdown",
   "metadata": {},
   "source": [
    "there are optional keywords `marginalize_position` and `marginalize_pm` which automatically set (ra,dec) and (pmra,pmdec) to `\"catalogue\"` respectively. Of course, I have found that pmra and pmdec make little impact on the $\\texttt{RUWE}$ distribution, so they can safely be set to 0. For this reason, their default values are zero"
   ]
  },
  {
   "cell_type": "markdown",
   "metadata": {},
   "source": [
    "If you have a catalogue like the nss catalogue, you may have access to things like the eccentricity. You can tell the program to pull a given parameter from a particular row of the dataframe by passing the row to the keyword `df` and then putting in a keyword with the value `df`\n",
    "\n",
    "In the same breath, I can mention that you can use the `use_a0` argument to calculate the astrometry using a0 instead of m1,q"
   ]
  },
  {
   "cell_type": "code",
   "execution_count": null,
   "metadata": {},
   "outputs": [],
   "source": [
    "infile_nss = open(\"data/m_dwarf_nss_data.pkl\", \"rb\")\n",
    "r_nss = pickle.load(infile_nss)\n",
    "infile_nss.close()\n",
    "ruwes = gw.marginalize_ruwe(sample_count=1000, df=r_nss[0], use_a0=True,\n",
    "                            ecc=\"df\", period=\"df\", a0=0.5)\n",
    "plt.hist(ruwes, bins=100, color=\"red\");\n",
    "plt.xlabel(\"RUWE\");\n",
    "plt.ylabel(\"#\");\n",
    "plt.title(\"RUWE distribution for a NSS system\");"
   ]
  },
  {
   "cell_type": "markdown",
   "metadata": {},
   "source": [
    "You can also use the `single_star=True` optional keyword to instead use gaiamock to calculate astrometry for a single star"
   ]
  },
  {
   "cell_type": "markdown",
   "metadata": {},
   "source": [
    "If you use `marginalize_ruwe_grid1d` you can actually pass as many parameters as you'd like, they will each be computed at the same time. This could be cleverly used with a latin hypercube setup or something intelligent to aleviate the need to do higher order grid searches.\n",
    "\n",
    "This can let me see what happens if I increase parallax and decrease q at the same time while marginalizing over the binary orientation"
   ]
  },
  {
   "cell_type": "code",
   "execution_count": null,
   "metadata": {},
   "outputs": [],
   "source": [
    "plaxes = np.linspace(10,30,10)\n",
    "qs = np.linspace(0.8,0.1,10)\n",
    "ruwes = gw.marginalize_ruwe_grid1d((\"parallax\", plaxes), (\"q\", qs), sample_count=1000, df=r[1019], marginalize_angles=True)\n",
    "plt.plot(qs, np.mean(ruwes, axis=1), c=\"k\")\n",
    "plt.xlabel(\"increasing parallax, decreasing q\");\n",
    "plt.ylabel(\"average RUWE\");"
   ]
  },
  {
   "cell_type": "markdown",
   "metadata": {},
   "source": [
    "Lastly, you can get access to the values of the marginalized parameters at each step by passing in `return_parameters=True`"
   ]
  },
  {
   "cell_type": "code",
   "execution_count": null,
   "metadata": {},
   "outputs": [],
   "source": [
    "ruwes, params = gw.marginalize_ruwe(sample_count=1000, df=r[1019], return_params=True, inc=gw.random_inc)\n",
    "plt.hist([param[\"inc\"] for param in params], bins=100, color=\"green\");\n",
    "plt.title(\"values of inclination\");"
   ]
  },
  {
   "cell_type": "markdown",
   "metadata": {},
   "source": [
    "## Orbital Solutions"
   ]
  },
  {
   "cell_type": "markdown",
   "metadata": {},
   "source": [
    "in the exact same way that you use the $\\texttt{RUWE}$ marginalization functions, you can call functions to calculate the likelihood of an orbital solution to be found. I simplified the orbit solution cascade from `gaiamock` to cut all the extra information and simply return `5`, `7`, `9`, or `12` depending on the number of parameters in the final solution. I've also limited as much as possible when `gaiamock` checks for the full orbit solutions since this nonlinear fit is expensive."
   ]
  },
  {
   "cell_type": "markdown",
   "metadata": {},
   "source": [
    "You just need to call\n",
    "\n",
    "`marginalize_solution_type`\n",
    "\n",
    "`marginalize_solution_type_grid1d`\n",
    "\n",
    "`marginalize_solution_type_grid2d`\n",
    "\n",
    "I'll provide an example. Let's say I want to know how the solution type changes as I move an object away from earth"
   ]
  },
  {
   "cell_type": "code",
   "execution_count": null,
   "metadata": {},
   "outputs": [],
   "source": [
    "plaxes = np.linspace(30,10,10)\n",
    "solutions = gw.marginalize_solution_type_grid1d((\"parallax\", plaxes), sample_count=100,\n",
    "                                           df=r[1019], marginalize_angles=True,\n",
    "                                           m1=0.8,q=0.3,period=1e4)\n",
    "\n",
    "binned_solutions = np.array([gw.bin_solutions(solution_set) for solution_set in solutions])\n",
    "\n",
    "solution_nums = [5,7,9,12]\n",
    "for i in range(4):\n",
    "    plt.plot(1000/plaxes, binned_solutions[:,i], label=\"{}p\".format(solution_nums[i]))\n",
    "plt.xlabel(\"distance\");\n",
    "plt.ylabel(\"solution type count\");\n",
    "plt.legend();"
   ]
  },
  {
   "cell_type": "markdown",
   "metadata": {},
   "source": [
    "Or, interestingly, we can see how the solution type varies with period"
   ]
  },
  {
   "cell_type": "code",
   "execution_count": null,
   "metadata": {},
   "outputs": [],
   "source": [
    "periods = np.logspace(1,8,10)\n",
    "solutions = gw.marginalize_solution_type_grid1d((\"p\", periods), sample_count=100,\n",
    "                                           df=r[1019], marginalize_angles=True,\n",
    "                                           m1=0.8,q=0.3,parallax=10)\n",
    "\n",
    "binned_solutions = np.array([gw.bin_solutions(solution_set) for solution_set in solutions])"
   ]
  },
  {
   "cell_type": "code",
   "execution_count": null,
   "metadata": {},
   "outputs": [],
   "source": [
    "solution_nums = [5,7,9,12]\n",
    "for i in range(4):\n",
    "    plt.plot(np.log10(periods), binned_solutions[:,i], label=\"{}p\".format(solution_nums[i]))\n",
    "plt.xlabel(\"logPeriod\");\n",
    "plt.ylabel(\"catalogue solution rate\");\n",
    "plt.legend();"
   ]
  },
  {
   "cell_type": "markdown",
   "metadata": {},
   "source": [
    "there's actually a lot of other little things I've put in here but don't have the time to write the documentation for. Basically, if there's something more exotic that you're wanting to do, just let me know and I can make it happen. Or look into the code. It's somewhat commented"
   ]
  },
  {
   "cell_type": "markdown",
   "metadata": {},
   "source": [
    "#### passing parameters into marginalisation functions"
   ]
  },
  {
   "cell_type": "code",
   "execution_count": null,
   "metadata": {},
   "outputs": [],
   "source": [
    "ruwes, params = gw.marginalize_ruwe(df=r[1019], sample_count=1000, return_params=True, parallax=(gw.sample_from_normal, (33, 10)))"
   ]
  },
  {
   "cell_type": "code",
   "execution_count": null,
   "metadata": {},
   "outputs": [],
   "source": [
    "plt.hist([p[\"parallax\"] for p in params])"
   ]
  }
 ],
 "metadata": {
  "kernelspec": {
   "display_name": "Python 3",
   "language": "python",
   "name": "python3"
  },
  "language_info": {
   "codemirror_mode": {
    "name": "ipython",
    "version": 3
   },
   "file_extension": ".py",
   "mimetype": "text/x-python",
   "name": "python",
   "nbconvert_exporter": "python",
   "pygments_lexer": "ipython3",
   "version": "3.10.12"
  }
 },
 "nbformat": 4,
 "nbformat_minor": 2
}

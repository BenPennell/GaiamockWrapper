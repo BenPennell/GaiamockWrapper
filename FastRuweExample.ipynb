{
 "cells": [
  {
   "cell_type": "markdown",
   "id": "3f0679b8",
   "metadata": {},
   "source": [
    "# let's calculate RUWE like a lot of times really quickly\n",
    "\n",
    "Benjamin Pennell\n",
    "\n",
    "--\n",
    "\n",
    "Max Planck Institut für Astronomie, Heidelberg\n",
    "\n",
    "---"
   ]
  },
  {
   "cell_type": "code",
   "execution_count": 1,
   "id": "c03b0611",
   "metadata": {},
   "outputs": [
    {
     "name": "stderr",
     "output_type": "stream",
     "text": [
      "/home/bepennell/.local/lib/python3.10/site-packages/matplotlib/projections/__init__.py:63: UserWarning: Unable to import Axes3D. This may be due to multiple versions of Matplotlib being installed (e.g. as a system package and as a pip package). As a result, the 3D projection is not available.\n",
      "  warnings.warn(\"Unable to import Axes3D. This may be due to multiple versions of \"\n"
     ]
    }
   ],
   "source": [
    "import numpy as np\n",
    "import GaiamockWrapper as gw\n",
    "import matplotlib.pyplot as plt\n",
    "from tqdm.notebook import tqdm"
   ]
  },
  {
   "cell_type": "markdown",
   "id": "bce49766",
   "metadata": {},
   "source": [
    "Imagine, if you will, that you have proposed a binary"
   ]
  },
  {
   "cell_type": "code",
   "execution_count": 2,
   "id": "45ddd42a",
   "metadata": {},
   "outputs": [],
   "source": [
    "period = 1e3 # days\n",
    "m1 = 1.2\n",
    "q = 0.7\n",
    "parallax = 5\n",
    "phot_g_mean_mag = 13\n",
    "ra = 30\n",
    "dec = 30\n",
    "pmra = 0\n",
    "pmdec = 0\n",
    "ecc = 0\n",
    "f = 1e-2"
   ]
  },
  {
   "cell_type": "markdown",
   "id": "a340ed05",
   "metadata": {},
   "source": [
    "and then you want to efficiently see how RUWE will change as the orbital angles change, we'll want to call ruwe like a bunch of times"
   ]
  },
  {
   "cell_type": "code",
   "execution_count": 3,
   "id": "02a8e08c",
   "metadata": {},
   "outputs": [
    {
     "data": {
      "application/vnd.jupyter.widget-view+json": {
       "model_id": "dfaad17dd36b4db6bcaef140e08607f5",
       "version_major": 2,
       "version_minor": 0
      },
      "text/plain": [
       "  0%|          | 0/10000 [00:00<?, ?it/s]"
      ]
     },
     "metadata": {},
     "output_type": "display_data"
    }
   ],
   "source": [
    "ruwes = []\n",
    "\n",
    "for i in tqdm(range(10000)):\n",
    "    # choose random angles\n",
    "    w = np.random.rand()*2*np.pi\n",
    "    omega = np.random.rand()*2*np.pi\n",
    "    inc = np.random.rand()*0.5*np.pi\n",
    "    Tp = np.random.rand()-0.5 \n",
    "    \n",
    "    # calculate ruwe\n",
    "    ruwes.append(gw.calculate_ruwe(period=period, m1=m1, q=q, parallax=parallax, phot_g_mean_mag=phot_g_mean_mag, \n",
    "                                   ra=ra, dec=dec, pmra=pmra, pmdec=pmdec, ecc=ecc, f=f,\n",
    "                                   w=w, omega=omega, inc=inc, Tp=Tp))"
   ]
  },
  {
   "cell_type": "code",
   "execution_count": 4,
   "id": "ecc326b1",
   "metadata": {},
   "outputs": [
    {
     "data": {
      "image/png": "[encoded data removed]",
      "text/plain": [
       "<Figure size 432x288 with 1 Axes>"
      ]
     },
     "metadata": {
      "needs_background": "light"
     },
     "output_type": "display_data"
    }
   ],
   "source": [
    "plt.hist(ruwes, bins=100, color=\"maroon\");\n",
    "plt.xlabel(\"RUWE\");"
   ]
  },
  {
   "cell_type": "markdown",
   "id": "d8d93f84",
   "metadata": {},
   "source": [
    "on my laptop this took ~30 seconds to run"
   ]
  },
  {
   "cell_type": "markdown",
   "id": "f2e16bc7",
   "metadata": {},
   "source": [
    "that's all well and good but it can be sped up. `fr.calculate_ruwe()` already has some of `gaiamock`'s fat trimmed out, but we can do more by precomputing part of the astrometry"
   ]
  },
  {
   "cell_type": "code",
   "execution_count": 5,
   "id": "d158e567",
   "metadata": {},
   "outputs": [
    {
     "data": {
      "application/vnd.jupyter.widget-view+json": {
       "model_id": "39ba1c87113742068ae1af3da7c40b63",
       "version_major": 2,
       "version_minor": 0
      },
      "text/plain": [
       "  0%|          | 0/10000 [00:00<?, ?it/s]"
      ]
     },
     "metadata": {},
     "output_type": "display_data"
    }
   ],
   "source": [
    "t_ast_yr, psi, plx_factor, epoch_err_per_transit = gw.astrometry_setup(ra, dec, phot_g_mean_mag, data_release=\"dr3\")\n",
    "\n",
    "ruwes = []\n",
    "for i in tqdm(range(10000)):\n",
    "    # choose random angles\n",
    "    w = np.random.rand()*2*np.pi\n",
    "    omega = np.random.rand()*2*np.pi\n",
    "    inc = np.random.rand()*0.5*np.pi\n",
    "    Tp = np.random.rand()-0.5 \n",
    "    \n",
    "    # calculate ruwe\n",
    "    ruwes.append(gw.calculate_ruwe(t_ast_yr=t_ast_yr, psi=psi, plx_factor=plx_factor, epoch_err_per_transit=epoch_err_per_transit,\n",
    "                                phot_g_mean_mag=phot_g_mean_mag, period=period, m1=m1, q=q, parallax=parallax, \n",
    "                                pmra=pmra, pmdec=pmdec, ecc=ecc, f=f,\n",
    "                                w=w, omega=omega, inc=inc, Tp=Tp))"
   ]
  },
  {
   "cell_type": "code",
   "execution_count": 6,
   "id": "54a8ae17",
   "metadata": {},
   "outputs": [
    {
     "data": {
      "image/png": "[encoded data removed]",
      "text/plain": [
       "<Figure size 432x288 with 1 Axes>"
      ]
     },
     "metadata": {
      "needs_background": "light"
     },
     "output_type": "display_data"
    }
   ],
   "source": [
    "plt.hist(ruwes, bins=100, color=\"maroon\");\n",
    "plt.xlabel(\"RUWE\");"
   ]
  },
  {
   "cell_type": "markdown",
   "id": "cf51a899",
   "metadata": {},
   "source": [
    "On my laptop this took ~1.1s to run. look at that efficiency :)"
   ]
  },
  {
   "cell_type": "markdown",
   "id": "f4331cea",
   "metadata": {},
   "source": [
    "But you'll notice the precomputed version has a sharper peak. `gaiamock` drops off 10% of the obserations randomly, and this is something that I'm precomputing. So, in the faster case here, it's simulating how RUWE would change *under the same observing conditions*\n",
    "\n",
    "For this reason, the extra added noise when `phot_g_mean_mag < 13` was kept on-the-fly since to me this seems like it should vary.\n",
    "\n",
    "But, I could change either of these, just let me know."
   ]
  }
 ],
 "metadata": {
  "kernelspec": {
   "display_name": "Python 3",
   "language": "python",
   "name": "python3"
  },
  "language_info": {
   "codemirror_mode": {
    "name": "ipython",
    "version": 3
   },
   "file_extension": ".py",
   "mimetype": "text/x-python",
   "name": "python",
   "nbconvert_exporter": "python",
   "pygments_lexer": "ipython3",
   "version": "3.10.12"
  }
 },
 "nbformat": 4,
 "nbformat_minor": 5
}

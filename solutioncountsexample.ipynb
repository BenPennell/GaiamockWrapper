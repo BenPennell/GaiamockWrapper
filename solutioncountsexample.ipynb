{
 "cells": [
  {
   "cell_type": "markdown",
   "id": "990ce873",
   "metadata": {},
   "source": [
    "# expected counts of orbit types for a catalogue\n",
    "\n",
    "Ben Pennell\n",
    "\n",
    "--\n",
    "_____"
   ]
  },
  {
   "cell_type": "code",
   "execution_count": 2,
   "id": "4f0af906",
   "metadata": {},
   "outputs": [
    {
     "name": "stderr",
     "output_type": "stream",
     "text": [
      "/home/bepennell/.local/lib/python3.10/site-packages/matplotlib/projections/__init__.py:63: UserWarning: Unable to import Axes3D. This may be due to multiple versions of Matplotlib being installed (e.g. as a system package and as a pip package). As a result, the 3D projection is not available.\n",
      "  warnings.warn(\"Unable to import Axes3D. This may be due to multiple versions of \"\n"
     ]
    }
   ],
   "source": [
    "import matplotlib.pyplot as plt\n",
    "import matplotlib\n",
    "import numpy as np\n",
    "import pickle\n",
    "%matplotlib inline\n",
    "matplotlib.rcParams['figure.figsize'] = (12, 10)\n",
    "\n",
    "import GaiamockWrapper as gw"
   ]
  },
  {
   "cell_type": "markdown",
   "id": "a09f7edb",
   "metadata": {},
   "source": [
    "the plan is to have a list of all the parameters for a given object, then for each object sample the solution type marginalising over orbital angles and eccentricity\n",
    "\n",
    "then, I'll have for a given object a count of each solution type. I'll convert to a probability of each type, and then add it to a running total. For example, for an object, if it has a 60% chance of having a 7-parameter solution, add 0.6 to the 7-parameter solution type count"
   ]
  },
  {
   "cell_type": "code",
   "execution_count": null,
   "id": "1ad7dad4",
   "metadata": {},
   "outputs": [],
   "source": [
    "objects = [] # imagine this is a list containing all of my objects..."
   ]
  },
  {
   "cell_type": "code",
   "execution_count": null,
   "id": "d0ba4dfb",
   "metadata": {},
   "outputs": [],
   "source": [
    "def thermal_e():\n",
    "    return np.sqrt(np.random.random())"
   ]
  },
  {
   "cell_type": "code",
   "execution_count": null,
   "id": "8b3b98d8",
   "metadata": {},
   "outputs": [],
   "source": [
    "expected_count_of_each_type = np.zeros(4)\n",
    "for df in objects:\n",
    "    solution_types = gw.marginalize_solution_type(df=df, # this will be where the code takes ra,dec,parallax,g from\n",
    "                                                  sample_count=100, # 100 iterations\n",
    "                                                  period=df[\"period\"], q=df[\"q\"], m1=df[\"iso_mass\"], # 'known' values\n",
    "                                                  marginalise_angles=True, # sample randomly omega, Omega, Tp, inc\n",
    "                                                  ecc=thermal_e # marginalise e with the provided function\n",
    "                                                  )\n",
    "    probability_types = gw.convert_to_type_arr(solution_types)/len(solution_types)\n",
    "    expected_count_of_each_type += probability_types"
   ]
  }
 ],
 "metadata": {
  "kernelspec": {
   "display_name": "Python 3",
   "language": "python",
   "name": "python3"
  },
  "language_info": {
   "codemirror_mode": {
    "name": "ipython",
    "version": 3
   },
   "file_extension": ".py",
   "mimetype": "text/x-python",
   "name": "python",
   "nbconvert_exporter": "python",
   "pygments_lexer": "ipython3",
   "version": "3.10.12"
  }
 },
 "nbformat": 4,
 "nbformat_minor": 5
}
